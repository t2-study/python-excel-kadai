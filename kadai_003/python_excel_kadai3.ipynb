{
  "nbformat": 4,
  "nbformat_minor": 0,
  "metadata": {
    "colab": {
      "provenance": []
    },
    "kernelspec": {
      "name": "python3",
      "display_name": "Python 3"
    },
    "language_info": {
      "name": "python"
    }
  },
  "cells": [
    {
      "cell_type": "code",
      "execution_count": 44,
      "metadata": {
        "id": "g4qKrZBCZOyd"
      },
      "outputs": [],
      "source": [
        "import openpyxl\n",
        "import pandas as pd\n",
        "from openpyxl.styles import PatternFill\n",
        "\n",
        "# 2022‗年間売上表の読み込み\n",
        "df1 = pd.read_excel(\"2022_年間売上表.xlsx\", sheet_name = \"Sheet1\")\n",
        "\n",
        "# 2023‗年間売上表の読み込み\n",
        "df2 = pd.read_excel(\"2023_年間売上表.xlsx\", sheet_name = \"Sheet1\")\n",
        "\n",
        "# 2022年と2023年の売上表を結合する\n",
        "df_concat = pd.concat([df1, df2])\n",
        "\n",
        "# 「商品」「売上年」ごとにグループ化し、合計金額に集約\n",
        "result = df_concat.groupby([\"商品\", \"売上年\"], as_index=False).sum()\n",
        "\n",
        "#print(result)\n",
        "\n",
        "# Excelブックを作成する\n",
        "result.to_excel(\"売上集計表.xlsx\", sheet_name = \"合計金額\", index=False)\n",
        "\n",
        "# Excelファイルの読み込み\n",
        "wb = openpyxl.load_workbook(\"売上集計表.xlsx\")\n",
        "ws = wb.active\n",
        "\n",
        "# 色の設定\n",
        "fill = PatternFill(patternType=\"solid\", fgColor=\"F2F2F2\")\n",
        "\n",
        "#ws[\"A1\"].fill = fill\n",
        "\n",
        "for cell in ws[\"A1\":\"C1\"]:\n",
        "#    print(cell)\n",
        "    for i in cell:\n",
        "        i.fill = fill\n",
        "\n",
        "# 列幅の調整\n",
        "for col in [\"A\", \"B\", \"C\"]:\n",
        "    ws.column_dimensions[col].width = 18\n",
        "\n",
        "\n",
        "wb.save(\"売上集計表.xlsx\")"
      ]
    },
    {
      "cell_type": "code",
      "source": [
        "\n"
      ],
      "metadata": {
        "id": "Sfn4j-NNaxYo"
      },
      "execution_count": null,
      "outputs": []
    }
  ]
}