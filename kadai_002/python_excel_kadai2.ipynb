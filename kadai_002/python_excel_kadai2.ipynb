{
  "nbformat": 4,
  "nbformat_minor": 0,
  "metadata": {
    "colab": {
      "provenance": []
    },
    "kernelspec": {
      "name": "python3",
      "display_name": "Python 3"
    },
    "language_info": {
      "name": "python"
    }
  },
  "cells": [
    {
      "cell_type": "code",
      "execution_count": 8,
      "metadata": {
        "id": "3tO5YLdvZXse"
      },
      "outputs": [],
      "source": [
        "import pandas as pd\n",
        "\n",
        "# 社員ごとの売上データを作成\n",
        "data = {\n",
        "    \"日付\": [\"2023-05-17\", \"2023-05-18\", \"2023-05-19\", \"2023-05-20\", \"2023-05-21\"],\n",
        "    \"社員名\": [\"山田\", \"佐藤\", \"鈴木\", \"田中\", \"高橋\"],\n",
        "    \"売上\": [100, 200, 150, 300, 250],\n",
        "    \"部門\": [\"メーカー\", \"代理店\", \"メーカー\", \"商社\", \"代理店\"]\n",
        "}\n",
        "\n",
        "df = pd.DataFrame(data)\n",
        "\n",
        "# 「平均売上」列を作成\n",
        "df[\"平均売上\"] = df[\"売上\"].mean()\n",
        "\n",
        "# 「業績ランク」列を作成\n",
        "def performance(earn):\n",
        "    rank = \"\"\n",
        "    mean = df[\"売上\"].mean()\n",
        "    if earn >= mean + 50:\n",
        "        rank = \"A\"\n",
        "    elif earn == mean:\n",
        "        rank = \"B\"\n",
        "    else:\n",
        "        rank = \"C\"\n",
        "    return rank\n",
        "\n",
        "df[\"業績ランク\"] = df[\"売上\"].apply(performance)\n",
        "\n",
        "# 「業績.xlsx」を書き出し\n",
        "writer = pd.ExcelWriter(\"業績.xlsx\")\n",
        "\n",
        "df.to_excel(writer, sheet_name=\"Sheet1\", index=False)\n",
        "\n",
        "writer.close()\n",
        "\n",
        "\n"
      ]
    },
    {
      "cell_type": "code",
      "source": [],
      "metadata": {
        "id": "SIpUznJGZcTb"
      },
      "execution_count": null,
      "outputs": []
    }
  ]
}