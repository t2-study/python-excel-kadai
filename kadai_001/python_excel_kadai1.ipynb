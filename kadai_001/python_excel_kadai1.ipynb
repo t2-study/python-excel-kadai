{
  "nbformat": 4,
  "nbformat_minor": 0,
  "metadata": {
    "colab": {
      "provenance": []
    },
    "kernelspec": {
      "name": "python3",
      "display_name": "Python 3"
    },
    "language_info": {
      "name": "python"
    }
  },
  "cells": [
    {
      "cell_type": "code",
      "execution_count": 38,
      "metadata": {
        "id": "NjITaq0hUm1F"
      },
      "outputs": [],
      "source": [
        "import openpyxl\n",
        "from datetime import datetime\n",
        "\n",
        "workbook = openpyxl.Workbook()\n",
        "worksheet = workbook.active\n",
        "\n",
        "today = datetime.today()\n",
        "#print(today.strftime(\"%Y%m%d\"))\n",
        "\n",
        "#固定情報の入力\n",
        "worksheet[\"B2\"] = \"請求書\"\n",
        "worksheet[\"F4\"] = \"No.\"\n",
        "worksheet[\"G4\"] = \"0001\"\n",
        "worksheet[\"F5\"] = \"日付\"\n",
        "worksheet[\"G5\"] = today.strftime('%Y/%m/%d')\n",
        "\n",
        "fix_data = [\"株式会社ABC\",\n",
        "            \"〒101-0022 東京都千代田区神田練塀町300\",\n",
        "            \"TEL:03-1234-5678 FAX:03-1234-5678\",\n",
        "            \"担当者名:鈴木一郎 様\"\n",
        "]\n",
        "\n",
        "row = 4\n",
        "\n",
        "for data in fix_data:\n",
        "    worksheet[f\"B{row}\"] = data\n",
        "    row = row + 1\n",
        "\n",
        "#商品情報の入力\n",
        "product_data = [\n",
        "    [\"\", \"商品名\", \"数量\", \"単価\", \"金額\"],\n",
        "    [\"\", \"商品A\", 2, 10000, 20000],\n",
        "    [\"\", \"商品B\", 1, 15000, 15000]\n",
        "]\n",
        "\n",
        "subtotal_cost = 0\n",
        "\n",
        "for product in product_data:\n",
        "    worksheet.append(product)\n",
        "\n",
        "    if product[4] != \"金額\":\n",
        "        subtotal_cost = subtotal_cost + product[4]\n",
        "\n",
        "#print(total_cost)\n",
        "\n",
        "#商品情報と固定情報の間に空行を2行挿入\n",
        "worksheet.insert_rows(8, 2)\n",
        "\n",
        "#合計金額をE列の最終行の下に入力\n",
        "last_row = worksheet.max_row +1\n",
        "#print(last_row)\n",
        "\n",
        "worksheet[f\"E{last_row}\"] = subtotal_cost\n",
        "\n",
        "#合計(subtotal_cost)、消費税(tax)、税込合計(total_cost)を入力する\n",
        "\n",
        "tax = subtotal_cost * 0.1\n",
        "total_cost = subtotal_cost + tax\n",
        "\n",
        "target_row = worksheet.max_row + 2\n",
        "\n",
        "cost_data = [\n",
        "    [\"合計\", subtotal_cost],\n",
        "    [\"消費税\", tax],\n",
        "    [\"税込合計\", total_cost]\n",
        "]\n",
        "\n",
        "for data in cost_data:\n",
        "    worksheet[f\"B{target_row}\"] = data[0]\n",
        "    worksheet[f\"E{target_row}\"] = data[1]\n",
        "    target_row = target_row + 1\n",
        "\n",
        "#列の幅を11に変更する\n",
        "target_col = worksheet.max_column\n",
        "width = 11\n",
        "\n",
        "for col in range(1,target_col+1):\n",
        "    worksheet.column_dimensions[openpyxl.utils.get_column_letter(col)].width = width\n",
        "\n",
        "#ファイル出力\n",
        "workbook.save(f\"請求書_{today.strftime('%Y%m%d')}.xlsx\")\n"
      ]
    },
    {
      "cell_type": "code",
      "source": [],
      "metadata": {
        "id": "TpqvESfAU5-Q"
      },
      "execution_count": null,
      "outputs": []
    }
  ]
}